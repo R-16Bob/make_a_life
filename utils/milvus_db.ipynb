{
 "cells": [
  {
   "cell_type": "markdown",
   "source": [
    "连接数据库"
   ],
   "metadata": {
    "collapsed": false
   }
  },
  {
   "cell_type": "code",
   "execution_count": 13,
   "metadata": {
    "collapsed": true,
    "ExecuteTime": {
     "end_time": "2025-09-30T02:07:56.436279800Z",
     "start_time": "2025-09-30T02:07:56.413345300Z"
    }
   },
   "outputs": [],
   "source": [
    "from pymilvus import MilvusClient, DataType, Function, FunctionType"
   ]
  },
  {
   "cell_type": "code",
   "execution_count": 14,
   "outputs": [],
   "source": [
    "client = MilvusClient(\n",
    "    uri=\"http://localhost:19530\",\n",
    ")"
   ],
   "metadata": {
    "collapsed": false,
    "ExecuteTime": {
     "end_time": "2025-09-30T02:07:56.436786800Z",
     "start_time": "2025-09-30T02:07:56.421176500Z"
    }
   }
  },
  {
   "cell_type": "markdown",
   "source": [
    "设计schema"
   ],
   "metadata": {
    "collapsed": false
   }
  },
  {
   "cell_type": "code",
   "execution_count": 15,
   "outputs": [],
   "source": [
    "# 创建启用动态字段的schema\n",
    "schema = client.create_schema(\n",
    "    auto_id=True,\n",
    "    enable_dynamic_field=True,\n",
    ")"
   ],
   "metadata": {
    "collapsed": false,
    "ExecuteTime": {
     "end_time": "2025-09-30T02:07:56.436786800Z",
     "start_time": "2025-09-30T02:07:56.424697400Z"
    }
   }
  },
  {
   "cell_type": "code",
   "execution_count": 16,
   "outputs": [
    {
     "data": {
      "text/plain": "{'auto_id': True, 'description': '', 'fields': [{'name': 'id', 'description': '', 'type': <DataType.INT64: 5>, 'is_primary': True, 'auto_id': False}, {'name': 'text', 'description': '', 'type': <DataType.VARCHAR: 21>, 'params': {'max_length': 1500}}, {'name': 'vector', 'description': '', 'type': <DataType.FLOAT_VECTOR: 101>, 'params': {'dim': 1024}}, {'name': 'timestamp', 'description': '', 'type': <DataType.INT64: 5>}], 'enable_dynamic_field': True}"
     },
     "execution_count": 16,
     "metadata": {},
     "output_type": "execute_result"
    }
   ],
   "source": [
    "schema.add_field(\"id\", DataType.INT64, is_primary=True)\n",
    "schema.add_field(\"text\", DataType.VARCHAR, max_length=1500)\n",
    "schema.add_field(\"vector\", DataType.FLOAT_VECTOR, dim=1024)\n",
    "schema.add_field(\"timestamp\",DataType.INT64)"
   ],
   "metadata": {
    "collapsed": false,
    "ExecuteTime": {
     "end_time": "2025-09-30T02:07:56.471121900Z",
     "start_time": "2025-09-30T02:07:56.433046100Z"
    }
   }
  },
  {
   "cell_type": "code",
   "execution_count": 17,
   "outputs": [],
   "source": [
    "text_embedding_function = Function(\n",
    "    name=\"bgem3_embedding\",                  # Unique identifier for this embedding function\n",
    "    function_type=FunctionType.TEXTEMBEDDING, # Type of embedding function\n",
    "    input_field_names=[\"text\"],           # Scalar field to embed\n",
    "    output_field_names=[\"vector\"],             # Vector field to store embeddings\n",
    "    params={                                  # Provider-specific configuration (highest priority)\n",
    "        \"provider\": \"siliconflow\",                # Must be set to \"siliconflow\"\n",
    "        \"model_name\": \"BAAI/bge-m3\",    # Specifies the SiliconFlow\n",
    "    }\n",
    ")"
   ],
   "metadata": {
    "collapsed": false,
    "ExecuteTime": {
     "end_time": "2025-09-30T02:07:56.471121900Z",
     "start_time": "2025-09-30T02:07:56.439794400Z"
    }
   }
  },
  {
   "cell_type": "code",
   "execution_count": 18,
   "outputs": [
    {
     "data": {
      "text/plain": "{'auto_id': True, 'description': '', 'fields': [{'name': 'id', 'description': '', 'type': <DataType.INT64: 5>, 'is_primary': True, 'auto_id': False}, {'name': 'text', 'description': '', 'type': <DataType.VARCHAR: 21>, 'params': {'max_length': 1500}}, {'name': 'vector', 'description': '', 'type': <DataType.FLOAT_VECTOR: 101>, 'params': {'dim': 1024}, 'is_function_output': True}, {'name': 'timestamp', 'description': '', 'type': <DataType.INT64: 5>}], 'enable_dynamic_field': True, 'functions': [{'name': 'bgem3_embedding', 'description': '', 'type': <FunctionType.TEXTEMBEDDING: 2>, 'input_field_names': ['text'], 'output_field_names': ['vector'], 'params': {'provider': 'siliconflow', 'model_name': 'BAAI/bge-m3'}}]}"
     },
     "execution_count": 18,
     "metadata": {},
     "output_type": "execute_result"
    }
   ],
   "source": [
    "schema.add_function(text_embedding_function)"
   ],
   "metadata": {
    "collapsed": false,
    "ExecuteTime": {
     "end_time": "2025-09-30T02:07:56.471121900Z",
     "start_time": "2025-09-30T02:07:56.445352100Z"
    }
   }
  },
  {
   "cell_type": "code",
   "execution_count": 19,
   "outputs": [],
   "source": [
    "index_params = client.prepare_index_params()\n",
    "\n",
    "index_params.add_index(\n",
    "    field_name=\"vector\",\n",
    "    index_type=\"AUTOINDEX\",\n",
    "    metric_type=\"COSINE\"\n",
    ")"
   ],
   "metadata": {
    "collapsed": false,
    "ExecuteTime": {
     "end_time": "2025-09-30T02:07:56.472629600Z",
     "start_time": "2025-09-30T02:07:56.453832900Z"
    }
   }
  },
  {
   "cell_type": "code",
   "execution_count": 20,
   "outputs": [],
   "source": [
    "if 'aoi_memories' not in client.list_databases():\n",
    "    client.create_database(db_name=\"aoi_memories\")"
   ],
   "metadata": {
    "collapsed": false,
    "ExecuteTime": {
     "end_time": "2025-09-30T02:07:56.472629600Z",
     "start_time": "2025-09-30T02:07:56.457856900Z"
    }
   }
  },
  {
   "cell_type": "markdown",
   "source": [
    "创collection前记得换数据库"
   ],
   "metadata": {
    "collapsed": false
   }
  },
  {
   "cell_type": "code",
   "execution_count": 21,
   "outputs": [],
   "source": [
    "client.use_database(db_name=\"aoi_memories\")"
   ],
   "metadata": {
    "collapsed": false,
    "ExecuteTime": {
     "end_time": "2025-09-30T02:07:56.480745600Z",
     "start_time": "2025-09-30T02:07:56.470121Z"
    }
   }
  },
  {
   "cell_type": "code",
   "execution_count": 22,
   "outputs": [],
   "source": [
    "if \"diaries\" in client.list_collections():\n",
    "    client.drop_collection(\"diaries\")\n",
    "client.create_collection(\n",
    "    collection_name='diaries',\n",
    "    schema=schema,\n",
    "    index_params=index_params\n",
    ")"
   ],
   "metadata": {
    "collapsed": false,
    "ExecuteTime": {
     "end_time": "2025-09-30T02:07:57.929768700Z",
     "start_time": "2025-09-30T02:07:56.478736100Z"
    }
   }
  },
  {
   "cell_type": "markdown",
   "source": [
    "现在已经建好db：aoi_memories与collection:memory了！"
   ],
   "metadata": {
    "collapsed": false
   }
  },
  {
   "cell_type": "code",
   "execution_count": 23,
   "outputs": [
    {
     "data": {
      "text/plain": "{'collection_name': 'diaries',\n 'auto_id': True,\n 'num_shards': 1,\n 'description': '',\n 'fields': [{'field_id': 100,\n   'name': 'id',\n   'description': '',\n   'type': <DataType.INT64: 5>,\n   'params': {},\n   'auto_id': True,\n   'is_primary': True},\n  {'field_id': 101,\n   'name': 'text',\n   'description': '',\n   'type': <DataType.VARCHAR: 21>,\n   'params': {'max_length': 1500}},\n  {'field_id': 102,\n   'name': 'vector',\n   'description': '',\n   'type': <DataType.FLOAT_VECTOR: 101>,\n   'params': {'dim': 1024},\n   'is_function_output': True},\n  {'field_id': 103,\n   'name': 'timestamp',\n   'description': '',\n   'type': <DataType.INT64: 5>,\n   'params': {}}],\n 'functions': [{'name': 'bgem3_embedding',\n   'id': 100,\n   'description': '',\n   'type': <FunctionType.TEXTEMBEDDING: 2>,\n   'params': {'provider': 'siliconflow', 'model_name': 'BAAI/bge-m3'},\n   'input_field_names': ['text'],\n   'input_field_ids': [101],\n   'output_field_names': ['vector'],\n   'output_field_ids': [102]}],\n 'aliases': [],\n 'collection_id': 461162662238104224,\n 'consistency_level': 2,\n 'properties': {},\n 'num_partitions': 1,\n 'enable_dynamic_field': True,\n 'created_timestamp': 461163220573618177,\n 'update_timestamp': 461163220573618177}"
     },
     "execution_count": 23,
     "metadata": {},
     "output_type": "execute_result"
    }
   ],
   "source": [
    "client.describe_collection(\"diaries\")"
   ],
   "metadata": {
    "collapsed": false,
    "ExecuteTime": {
     "end_time": "2025-09-30T02:07:57.942788100Z",
     "start_time": "2025-09-30T02:07:57.931144400Z"
    }
   }
  },
  {
   "cell_type": "markdown",
   "source": [
    "接下来，让我们插入diaries中的数据到数据库中"
   ],
   "metadata": {
    "collapsed": false
   }
  },
  {
   "cell_type": "markdown",
   "source": [
    "开始插入吧。"
   ],
   "metadata": {
    "collapsed": false
   }
  },
  {
   "cell_type": "code",
   "execution_count": 24,
   "outputs": [],
   "source": [
    "# client.insert('memory',data)"
   ],
   "metadata": {
    "collapsed": false,
    "ExecuteTime": {
     "end_time": "2025-09-30T02:07:57.946842800Z",
     "start_time": "2025-09-30T02:07:57.943690900Z"
    }
   }
  }
 ],
 "metadata": {
  "kernelspec": {
   "display_name": "Python 3",
   "language": "python",
   "name": "python3"
  },
  "language_info": {
   "codemirror_mode": {
    "name": "ipython",
    "version": 2
   },
   "file_extension": ".py",
   "mimetype": "text/x-python",
   "name": "python",
   "nbconvert_exporter": "python",
   "pygments_lexer": "ipython2",
   "version": "2.7.6"
  }
 },
 "nbformat": 4,
 "nbformat_minor": 0
}
